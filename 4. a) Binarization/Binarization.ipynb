{
 "cells": [
  {
   "cell_type": "markdown",
   "metadata": {},
   "source": [
    "<center><h1>Program - 4(a)</h1></center>\n",
    "\n",
    "<center><h3>Binarization</h3></center>"
   ]
  },
  {
   "cell_type": "code",
   "execution_count": 10,
   "metadata": {},
   "outputs": [
    {
     "name": "stdout",
     "output_type": "stream",
     "text": [
      "\n",
      "Original age data values : \n",
      " [44 27 30 38 40 35 78 48 50 37]\n",
      "\n",
      "Original salary data values : \n",
      " [72000 48000 54000 61000  1000 58000 52000 79000 83000 67000]\n",
      "\n",
      "Binarized age : \n",
      " [[1 0 0 1 1 0 1 1 1 1]]\n",
      "\n",
      "Binarized salary : \n",
      " [[1 0 0 0 0 0 0 1 1 1]]\n"
     ]
    }
   ],
   "source": [
    "import numpy as np\n",
    "import matplotlib.pyplot as plt\n",
    "import pandas as pd\n",
    "from sklearn.preprocessing import Binarizer\n",
    "from sklearn import preprocessing\n",
    "\n",
    "  \n",
    "data_set = pd.read_csv('binarizationDataset.csv')\n",
    "data_set.head()\n",
    " \n",
    "# here Features - Age and Salary columns\n",
    "# are taken using slicing\n",
    "# to binarize values\n",
    "age = data_set.iloc[:, 1].values\n",
    "salary = data_set.iloc[:, 2].values\n",
    "print (\"\\nOriginal age data values : \\n\",  age)\n",
    "print (\"\\nOriginal salary data values : \\n\",  salary)\n",
    " \n",
    "#Binarizing values \n",
    "  \n",
    "x = age\n",
    "x = x.reshape(1, -1)\n",
    "y = salary\n",
    "y = y.reshape(1, -1)\n",
    " \n",
    "# For age, let threshold be 35\n",
    "# For salary, let threshold be 61000\n",
    "binarizer_1 = Binarizer(threshold=35)\n",
    "binarizer_2 = Binarizer(threshold=61000)\n",
    " \n",
    "# Transformed feature\n",
    "print (\"\\nBinarized age : \\n\", binarizer_1.fit_transform(x))\n",
    " \n",
    "print (\"\\nBinarized salary : \\n\", binarizer_2.fit_transform(y))"
   ]
  },
  {
   "cell_type": "code",
   "execution_count": null,
   "metadata": {},
   "outputs": [],
   "source": []
  }
 ],
 "metadata": {
  "kernelspec": {
   "display_name": "Python 3",
   "language": "python",
   "name": "python3"
  },
  "language_info": {
   "codemirror_mode": {
    "name": "ipython",
    "version": 3
   },
   "file_extension": ".py",
   "mimetype": "text/x-python",
   "name": "python",
   "nbconvert_exporter": "python",
   "pygments_lexer": "ipython3",
   "version": "3.7.6"
  }
 },
 "nbformat": 4,
 "nbformat_minor": 5
}
